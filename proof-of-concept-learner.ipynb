{
 "cells": [
  {
   "cell_type": "code",
   "execution_count": null,
   "metadata": {},
   "outputs": [],
   "source": [
    "import random\n",
    "import math\n",
    "import numpy as np\n",
    "\n",
    "from sortedcontainers import SortedList\n",
    "import adaptive\n",
    "from adaptive.learner.new_learnerND import LearnerND, CurvatureLoss\n",
    "\n",
    "import holoviews as hv\n",
    "\n",
    "adaptive.notebook_extension()"
   ]
  },
  {
   "cell_type": "code",
   "execution_count": null,
   "metadata": {},
   "outputs": [],
   "source": [
    "offset = random.uniform(-0.5, 0.5)\n",
    "\n",
    "def peak(x, offset=offset):\n",
    "    a = 0.02\n",
    "    return x + a**2 / (a**2 + (x - offset)**2)"
   ]
  },
  {
   "cell_type": "markdown",
   "metadata": {},
   "source": [
    "### The new implementation has the same API as the old one (except bounds)"
   ]
  },
  {
   "cell_type": "code",
   "execution_count": null,
   "metadata": {},
   "outputs": [],
   "source": [
    "learner = adaptive.Learner1D(peak, (-1, 1))\n",
    "adaptive.runner.simple(learner, goal=lambda l: len(l.data) > 50)"
   ]
  },
  {
   "cell_type": "code",
   "execution_count": null,
   "metadata": {},
   "outputs": [],
   "source": [
    "learner2 = LearnerND(peak, [(-1, 1)])\n",
    "adaptive.runner.simple(learner2, goal=lambda l: len(l.data) > 50)"
   ]
  },
  {
   "cell_type": "markdown",
   "metadata": {},
   "source": [
    "### The new implementation is as fast as the old one"
   ]
  },
  {
   "cell_type": "code",
   "execution_count": null,
   "metadata": {},
   "outputs": [],
   "source": [
    "%time adaptive.runner.simple(learner, goal=lambda l: len(l.data) > 10000)"
   ]
  },
  {
   "cell_type": "code",
   "execution_count": null,
   "metadata": {},
   "outputs": [],
   "source": [
    "%time adaptive.runner.simple(learner2, goal=lambda l: len(l.data) > 10000)"
   ]
  },
  {
   "cell_type": "markdown",
   "metadata": {},
   "source": [
    "### Also works in parallel"
   ]
  },
  {
   "cell_type": "code",
   "execution_count": null,
   "metadata": {},
   "outputs": [],
   "source": [
    "import time\n",
    "\n",
    "def peak(x, offset=offset):\n",
    "    time.sleep(0.5)\n",
    "    a = 0.02\n",
    "    return x + a**2 / (a**2 + (x - offset)**2)"
   ]
  },
  {
   "cell_type": "code",
   "execution_count": null,
   "metadata": {},
   "outputs": [],
   "source": [
    "learner2 = LearnerND(peak, [(-1, 1)])\n",
    "runner = adaptive.Runner(learner2, goal=lambda l: len(l.data) > 1000)"
   ]
  },
  {
   "cell_type": "code",
   "execution_count": null,
   "metadata": {},
   "outputs": [],
   "source": [
    "runner.live_info()"
   ]
  },
  {
   "cell_type": "code",
   "execution_count": null,
   "metadata": {},
   "outputs": [],
   "source": [
    "runner.live_plot(update_interval=0.5)"
   ]
  },
  {
   "cell_type": "markdown",
   "metadata": {},
   "source": [
    "## Works for ND input also"
   ]
  },
  {
   "cell_type": "code",
   "execution_count": null,
   "metadata": {},
   "outputs": [],
   "source": [
    "def ring_of_fire(xy, d=0.75):\n",
    "    a = 0.2\n",
    "    x, y = xy\n",
    "    return x + math.exp(-(x ** 2 + y ** 2 - d ** 2) ** 2 / a ** 4)"
   ]
  },
  {
   "cell_type": "code",
   "execution_count": null,
   "metadata": {},
   "outputs": [],
   "source": [
    "learner3 = adaptive.LearnerND(ring_of_fire, [(-1, 1), (-1, 1)],\n",
    "                              loss_per_simplex=adaptive.learner.learnerND.curvature_loss_function())\n",
    "adaptive.runner.simple(learner3, goal=lambda l: len(l.data) > 50)"
   ]
  },
  {
   "cell_type": "code",
   "execution_count": null,
   "metadata": {},
   "outputs": [],
   "source": [
    "learner4 = adaptive.Learner2D(ring_of_fire, [(-1, 1), (-1, 1)])\n",
    "adaptive.runner.simple(learner4, goal=lambda l: len(l.data) > 50)"
   ]
  },
  {
   "cell_type": "code",
   "execution_count": null,
   "metadata": {},
   "outputs": [],
   "source": [
    "learner5 = LearnerND(ring_of_fire, [(-1, 1), (-1, 1)])\n",
    "adaptive.runner.simple(learner5, goal=lambda l: len(l.data) > 50)"
   ]
  },
  {
   "cell_type": "code",
   "execution_count": null,
   "metadata": {},
   "outputs": [],
   "source": [
    "learner6 = LearnerND(ring_of_fire, [(-1, 1), (-1, 1)], loss=CurvatureLoss())\n",
    "adaptive.runner.simple(learner6, goal=lambda l: len(l.data) > 50)"
   ]
  },
  {
   "cell_type": "markdown",
   "metadata": {},
   "source": [
    "Note that the points are not exactly the same as for the old LearnerND.\n",
    "\n",
    "This is because for the moment it is illegal to insert points onto the boundary of an existing simplex.\n",
    "\n",
    "We shall lift this restriction soon."
   ]
  },
  {
   "cell_type": "code",
   "execution_count": null,
   "metadata": {},
   "outputs": [],
   "source": [
    "learner3.plot(tri_alpha=0.5) + learner4.plot(tri_alpha=0.5) + learner5.plot(tri_alpha=0.5) + learner6.plot(tri_alpha=0.5)"
   ]
  },
  {
   "cell_type": "code",
   "execution_count": null,
   "metadata": {},
   "outputs": [],
   "source": [
    "%time adaptive.runner.simple(learner3, goal=lambda l: len(l.data) > 1000)"
   ]
  },
  {
   "cell_type": "code",
   "execution_count": null,
   "metadata": {},
   "outputs": [],
   "source": [
    "%time adaptive.runner.simple(learner4, goal=lambda l: len(l.data) > 1000)"
   ]
  },
  {
   "cell_type": "code",
   "execution_count": null,
   "metadata": {},
   "outputs": [],
   "source": [
    "%time adaptive.runner.simple(learner5, goal=lambda l: len(l.data) > 1000)"
   ]
  },
  {
   "cell_type": "code",
   "execution_count": null,
   "metadata": {},
   "outputs": [],
   "source": [
    "%time adaptive.runner.simple(learner6, goal=lambda l: len(l.data) > 1000)"
   ]
  },
  {
   "cell_type": "code",
   "execution_count": null,
   "metadata": {},
   "outputs": [],
   "source": [
    "learner3.plot(tri_alpha=0.5) + learner4.plot(tri_alpha=0.5) + learner5.plot(tri_alpha=0.5) + learner6.plot(tri_alpha=0.5)"
   ]
  },
  {
   "cell_type": "code",
   "execution_count": null,
   "metadata": {},
   "outputs": [],
   "source": [
    "import time\n",
    "\n",
    "def ring_of_fire(xy, d=0.75):\n",
    "    time.sleep(0.5)\n",
    "    a = 0.2\n",
    "    x, y = xy\n",
    "    return x + math.exp(-(x ** 2 + y ** 2 - d ** 2) ** 2 / a ** 4)"
   ]
  },
  {
   "cell_type": "code",
   "execution_count": null,
   "metadata": {},
   "outputs": [],
   "source": [
    "learner6 = LearnerND(ring_of_fire, [(-1, 1), (-1, 1)], loss=CurvatureLoss())\n",
    "runner = adaptive.Runner(learner6, log=True, goal=lambda l: len(l.data) > 1000)"
   ]
  },
  {
   "cell_type": "code",
   "execution_count": null,
   "metadata": {},
   "outputs": [],
   "source": [
    "runner.live_info()"
   ]
  },
  {
   "cell_type": "code",
   "execution_count": null,
   "metadata": {},
   "outputs": [],
   "source": [
    "runner.live_plot(plotter=lambda l: l.plot(tri_alpha=0.5), update_interval=0.5)"
   ]
  },
  {
   "cell_type": "markdown",
   "metadata": {},
   "source": [
    "## Works for ND output"
   ]
  },
  {
   "cell_type": "code",
   "execution_count": null,
   "metadata": {},
   "outputs": [],
   "source": [
    "def ring_of_fire2(xy, d=0.75):\n",
    "    a = 0.2\n",
    "    x, y = xy\n",
    "    z = x + math.exp(-(x ** 2 + y ** 2 - d ** 2) ** 2 / a ** 4)\n",
    "    return [z, z]"
   ]
  },
  {
   "cell_type": "code",
   "execution_count": null,
   "metadata": {},
   "outputs": [],
   "source": [
    "learner7 = LearnerND(ring_of_fire2, [(-1, 1), (-1, 1)])"
   ]
  },
  {
   "cell_type": "code",
   "execution_count": null,
   "metadata": {},
   "outputs": [],
   "source": [
    "adaptive.runner.simple(learner7, goal=lambda l: len(l.data)> 100)"
   ]
  }
 ],
 "metadata": {
  "kernelspec": {
   "display_name": "adaptive",
   "language": "python",
   "name": "adaptive"
  },
  "language_info": {
   "codemirror_mode": {
    "name": "ipython",
    "version": 3
   },
   "file_extension": ".py",
   "mimetype": "text/x-python",
   "name": "python",
   "nbconvert_exporter": "python",
   "pygments_lexer": "ipython3",
   "version": "3.6.7"
  }
 },
 "nbformat": 4,
 "nbformat_minor": 2
}
